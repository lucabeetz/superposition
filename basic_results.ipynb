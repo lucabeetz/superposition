{
 "cells": [
  {
   "cell_type": "code",
   "execution_count": 5,
   "metadata": {},
   "outputs": [],
   "source": [
    "import jax \n",
    "import optax\n",
    "import haiku as hk\n",
    "import numpy as np\n",
    "import jax.numpy as jnp\n",
    "from typing import NamedTuple, Tuple"
   ]
  },
  {
   "cell_type": "code",
   "execution_count": 6,
   "metadata": {},
   "outputs": [],
   "source": [
    "INPUT_DIM = 5\n",
    "HIDDEN_DIM = 2\n",
    "\n",
    "MAX_STEPS = 10\n",
    "BATCH_SIZE = 64\n",
    "SEED = 42"
   ]
  },
  {
   "cell_type": "code",
   "execution_count": 7,
   "metadata": {},
   "outputs": [],
   "source": [
    "from typing import Optional\n",
    "\n",
    "class ToyModel(hk.Module):\n",
    "    def __init__(self, hidden_dim: int, name: Optional[str] = None):\n",
    "        super().__init__(name=name)\n",
    "        self.hidden_dim = hidden_dim\n",
    "\n",
    "    def __call__(self, x: jnp.ndarray) -> jnp.ndarray:\n",
    "        j = x.shape[-1] # Input dimension\n",
    "        w_init = hk.initializers.TruncatedNormal(1. / np.sqrt(j))\n",
    "\n",
    "        # Get parameters\n",
    "        W = hk.get_parameter('W', shape=[self.hidden_dim, j], dtype=x.dtype, init=w_init)\n",
    "        b = hk.get_parameter('b', shape=[j], dtype=x.dtype, init=jnp.ones)\n",
    "\n",
    "        # Pass input through network\n",
    "        x = x.T\n",
    "        x = W.dot(x)\n",
    "        x = W.T.dot(x)\n",
    "        x = x.T + b\n",
    "\n",
    "        return x"
   ]
  },
  {
   "cell_type": "code",
   "execution_count": 8,
   "metadata": {},
   "outputs": [],
   "source": [
    "class TrainingState(NamedTuple):\n",
    "    params: hk.Params\n",
    "    opt_state: optax.OptState\n",
    "\n",
    "class Batch(NamedTuple):\n",
    "    data: jnp.ndarray\n",
    "    importances: jnp.ndarray\n",
    "\n",
    "def generate_batch(key: jax.random.KeyArray, batch_size: int, n_features: int, sparsity: float) -> Tuple[Batch, jax.random.KeyArray]:\n",
    "    key, k1, k2 = jax.random.split(key, 3)\n",
    "    features = jax.random.uniform(k1, (batch_size, n_features))\n",
    "    sparsity_mask = jax.random.uniform(k2, (batch_size, n_features)) <= (1 - sparsity)\n",
    "    data = jnp.where(sparsity_mask, features, 0)\n",
    "    return Batch(data, jnp.ones(INPUT_DIM)), key"
   ]
  },
  {
   "cell_type": "code",
   "execution_count": 9,
   "metadata": {},
   "outputs": [],
   "source": [
    "def toy_model_fn(x: jnp.ndarray) -> jnp.ndarray:\n",
    "    model = ToyModel(hidden_dim=HIDDEN_DIM)\n",
    "    return model(x)\n",
    "\n",
    "toy_model = hk.without_apply_rng(hk.transform(toy_model_fn))\n",
    "optimiser = optax.adam(1e-3)\n",
    "\n",
    "def loss_fn(params: hk.Params, batch: Batch) -> jnp.ndarray:\n",
    "    batch_size, _ = batch.data.shape\n",
    "    y_hat = toy_model.apply(params, batch.data)\n",
    "\n",
    "    # L2 reconstruction error\n",
    "    loss = jnp.sum((y_hat - batch.data)**2)\n",
    "    return loss / batch_size\n",
    "\n",
    "@jax.jit\n",
    "def update(state: TrainingState, batch: Batch) -> TrainingState:\n",
    "    grads = jax.grad(loss_fn)(state.params, batch)\n",
    "    updates, opt_state = optimiser.update(grads, state.opt_state)\n",
    "    params = optax.apply_updates(state.params, updates)\n",
    "    return TrainingState(params, opt_state)\n",
    "\n",
    "# Get data\n",
    "key = jax.random.PRNGKey(SEED)\n",
    "training_batch, key = generate_batch(key, BATCH_SIZE, INPUT_DIM, sparsity=0)\n",
    "\n",
    "# Initialise weights and optimiser\n",
    "key, subkey = jax.random.split(key)\n",
    "initial_params = toy_model.init(subkey, training_batch.data)\n",
    "initial_opt_state = optimiser.init(initial_params)\n",
    "state = TrainingState(initial_params, initial_opt_state)\n",
    "\n",
    "# Training loop\n",
    "for step in range(MAX_STEPS):\n",
    "    state = update(state, training_batch)\n",
    "    pass"
   ]
  }
 ],
 "metadata": {
  "kernelspec": {
   "display_name": "Python 3.10.4 ('dev')",
   "language": "python",
   "name": "python3"
  },
  "language_info": {
   "codemirror_mode": {
    "name": "ipython",
    "version": 3
   },
   "file_extension": ".py",
   "mimetype": "text/x-python",
   "name": "python",
   "nbconvert_exporter": "python",
   "pygments_lexer": "ipython3",
   "version": "3.10.4"
  },
  "orig_nbformat": 4,
  "vscode": {
   "interpreter": {
    "hash": "542b945083c67c9f944045fafa5f0a81f236d7ed756bfd69fc2d950afe4e3d85"
   }
  }
 },
 "nbformat": 4,
 "nbformat_minor": 2
}
